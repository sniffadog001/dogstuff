{
  "nbformat": 4,
  "nbformat_minor": 0,
  "metadata": {
    "colab": {
      "name": "MountGdrive.ipynb",
      "provenance": [],
      "collapsed_sections": [],
      "include_colab_link": true
    },
    "kernelspec": {
      "name": "python3",
      "display_name": "Python 3"
    }
  },
  "cells": [
    {
      "cell_type": "markdown",
      "metadata": {
        "id": "view-in-github",
        "colab_type": "text"
      },
      "source": [
        "<a href=\"https://colab.research.google.com/github/sniffadog001/dogstuff/blob/master/MountGdrive.ipynb\" target=\"_parent\"><img src=\"https://colab.research.google.com/assets/colab-badge.svg\" alt=\"Open In Colab\"/></a>"
      ]
    },
    {
      "cell_type": "markdown",
      "metadata": {
        "id": "wFILxLCVljOO",
        "colab_type": "text"
      },
      "source": [
        "The purpose of this colab is to transfer files from my Google Drive into a bucket. \n",
        "\n",
        "I have tested this with the calibrator folder, but in the future will simply have a data, a train, a test folder like simple structure.\n",
        "\n",
        "Import the drive tools and run the mount command. You will be asked to authenticate using a token that you create using Google Auth API. After you pasted the token your drive is mounted to the given path."
      ]
    },
    {
      "cell_type": "code",
      "metadata": {
        "id": "tMc4kGTgfpcx",
        "colab_type": "code",
        "outputId": "ff371f4a-6627-45ac-c96d-07f60663255e",
        "colab": {
          "base_uri": "https://localhost:8080/",
          "height": 34
        }
      },
      "source": [
        "from google.colab import drive\n",
        "drive.mount('/content/gdrive', force_remount=True)"
      ],
      "execution_count": 0,
      "outputs": [
        {
          "output_type": "stream",
          "text": [
            "Mounted at /content/gdrive\n"
          ],
          "name": "stdout"
        }
      ]
    },
    {
      "cell_type": "markdown",
      "metadata": {
        "id": "rjWzz6exlp9S",
        "colab_type": "text"
      },
      "source": [
        "Go to the Resource Manager and create a new project and create a bucket for the data.\n",
        "\n",
        "Connect Colab to GCS using Google Auth API and gsutil."
      ]
    },
    {
      "cell_type": "code",
      "metadata": {
        "id": "idcTx4kBji8w",
        "colab_type": "code",
        "outputId": "4f44fcf9-f91c-4ce9-bdf0-045d3744782c",
        "colab": {
          "base_uri": "https://localhost:8080/",
          "height": 52
        }
      },
      "source": [
        "from google.colab import auth\n",
        "auth.authenticate_user()\n",
        "project_id = 'mountgdrive-271913'\n",
        "!gcloud config set project {project_id}\n",
        "!gsutil ls"
      ],
      "execution_count": 0,
      "outputs": [
        {
          "output_type": "stream",
          "text": [
            "Updated property [core/project].\n",
            "gs://bewegdrive/\n"
          ],
          "name": "stdout"
        }
      ]
    },
    {
      "cell_type": "markdown",
      "metadata": {
        "id": "aDVPbabo1eS4",
        "colab_type": "text"
      },
      "source": [
        "Transfer contents of Rcloud into the bucket"
      ]
    },
    {
      "cell_type": "code",
      "metadata": {
        "id": "s62F8aPQnpVu",
        "colab_type": "code",
        "colab": {}
      },
      "source": [
        "bucket_name= 'bewegdrive'\n",
        "!gsutil -m cp -r /content/gdrive/My\\ Drive/Rcloud/calibrator* gs://{bucket_name}"
      ],
      "execution_count": 0,
      "outputs": []
    },
    {
      "cell_type": "markdown",
      "metadata": {
        "id": "x3MVfxtVRQy_",
        "colab_type": "text"
      },
      "source": [
        "Note this does not remove the current files from the bucket, but does refresh them.\n",
        "\n",
        "From this point I then created an Rstudio VM on Google Cloud Platform\n",
        "'gce-test'.\n",
        "\n",
        "I need to include that Rscript into this makdown document, with full explanation."
      ]
    }
  ]
}